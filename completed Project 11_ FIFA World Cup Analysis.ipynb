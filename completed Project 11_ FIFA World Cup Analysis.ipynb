{
 "cells": [
  {
   "cell_type": "code",
   "execution_count": 24,
   "metadata": {},
   "outputs": [],
   "source": [
    "import pandas as pd\n",
    "import numpy as np\n",
    "import matplotlib.pyplot as plt\n",
    "import seaborn as sns\n",
    "import matplotlib"
   ]
  },
  {
   "cell_type": "code",
   "execution_count": 25,
   "metadata": {},
   "outputs": [],
   "source": [
    "# Set plot style\n",
    "sns.set(style=\"whitegrid\")\n",
    "matplotlib.rcParams['font.family'] = 'DejaVu Sans'\n"
   ]
  },
  {
   "cell_type": "code",
   "execution_count": 3,
   "metadata": {},
   "outputs": [],
   "source": [
    "# Load the datasets\n",
    "world_cup_matches = pd.read_csv(\"C:\\\\Users\\\\suman\\\\Downloads\\\\FIFA WC data\\\\WorldCupMatches.csv\")\n",
    "world_cup_players = pd.read_csv(\"C:\\\\Users\\\\suman\\\\Downloads\\\\FIFA WC data\\\\WorldCupPlayers.csv\")\n",
    "world_cups = pd.read_csv(\"C:\\\\Users\\\\suman\\\\Downloads\\\\FIFA WC data\\\\WorldCups.csv\")"
   ]
  },
  {
   "cell_type": "code",
   "execution_count": 6,
   "metadata": {},
   "outputs": [
    {
     "name": "stdout",
     "output_type": "stream",
     "text": [
      "     Year              Datetime    Stage         Stadium         City  \\\n",
      "0  1930.0  13 Jul 1930 - 15:00   Group 1         Pocitos  Montevideo    \n",
      "1  1930.0  13 Jul 1930 - 15:00   Group 4  Parque Central  Montevideo    \n",
      "2  1930.0  14 Jul 1930 - 12:45   Group 2  Parque Central  Montevideo    \n",
      "3  1930.0  14 Jul 1930 - 14:50   Group 3         Pocitos  Montevideo    \n",
      "4  1930.0  15 Jul 1930 - 16:00   Group 1  Parque Central  Montevideo    \n",
      "\n",
      "  Home Team Name  Home Team Goals  Away Team Goals Away Team Name  \\\n",
      "0         France              4.0              1.0         Mexico   \n",
      "1            USA              3.0              0.0        Belgium   \n",
      "2     Yugoslavia              2.0              1.0         Brazil   \n",
      "3        Romania              3.0              1.0           Peru   \n",
      "4      Argentina              1.0              0.0         France   \n",
      "\n",
      "  Win conditions  Attendance  Half-time Home Goals  Half-time Away Goals  \\\n",
      "0                     4444.0                   3.0                   0.0   \n",
      "1                    18346.0                   2.0                   0.0   \n",
      "2                    24059.0                   2.0                   0.0   \n",
      "3                     2549.0                   1.0                   0.0   \n",
      "4                    23409.0                   0.0                   0.0   \n",
      "\n",
      "                  Referee               Assistant 1  \\\n",
      "0  LOMBARDI Domingo (URU)     CRISTOPHE Henry (BEL)   \n",
      "1       MACIAS Jose (ARG)  MATEUCCI Francisco (URU)   \n",
      "2     TEJADA Anibal (URU)   VALLARINO Ricardo (URU)   \n",
      "3   WARNKEN Alberto (CHI)       LANGENUS Jean (BEL)   \n",
      "4     REGO Gilberto (BRA)      SAUCEDO Ulises (BOL)   \n",
      "\n",
      "                  Assistant 2  RoundID  MatchID Home Team Initials  \\\n",
      "0         REGO Gilberto (BRA)    201.0   1096.0                FRA   \n",
      "1       WARNKEN Alberto (CHI)    201.0   1090.0                USA   \n",
      "2         BALWAY Thomas (FRA)    201.0   1093.0                YUG   \n",
      "3    MATEUCCI Francisco (URU)    201.0   1098.0                ROU   \n",
      "4  RADULESCU Constantin (ROU)    201.0   1085.0                ARG   \n",
      "\n",
      "  Away Team Initials  \n",
      "0                MEX  \n",
      "1                BEL  \n",
      "2                BRA  \n",
      "3                PER  \n",
      "4                FRA  \n"
     ]
    }
   ],
   "source": [
    "# Display first few rows of datasets\n",
    "print(world_cup_matches.head())"
   ]
  },
  {
   "cell_type": "code",
   "execution_count": 7,
   "metadata": {},
   "outputs": [
    {
     "name": "stdout",
     "output_type": "stream",
     "text": [
      "   RoundID  MatchID Team Initials           Coach Name Line-up  Shirt Number  \\\n",
      "0      201     1096           FRA  CAUDRON Raoul (FRA)       S             0   \n",
      "1      201     1096           MEX     LUQUE Juan (MEX)       S             0   \n",
      "2      201     1096           FRA  CAUDRON Raoul (FRA)       S             0   \n",
      "3      201     1096           MEX     LUQUE Juan (MEX)       S             0   \n",
      "4      201     1096           FRA  CAUDRON Raoul (FRA)       S             0   \n",
      "\n",
      "        Player Name Position Event  \n",
      "0       Alex THEPOT       GK   NaN  \n",
      "1   Oscar BONFIGLIO       GK   NaN  \n",
      "2  Marcel LANGILLER      NaN  G40'  \n",
      "3      Juan CARRENO      NaN  G70'  \n",
      "4   Ernest LIBERATI      NaN   NaN  \n"
     ]
    }
   ],
   "source": [
    "print(world_cup_players.head())"
   ]
  },
  {
   "cell_type": "code",
   "execution_count": 8,
   "metadata": {},
   "outputs": [
    {
     "name": "stdout",
     "output_type": "stream",
     "text": [
      "   Year      Country      Winner      Runners-Up    Third      Fourth  \\\n",
      "0  1930      Uruguay     Uruguay       Argentina      USA  Yugoslavia   \n",
      "1  1934        Italy       Italy  Czechoslovakia  Germany     Austria   \n",
      "2  1938       France       Italy         Hungary   Brazil      Sweden   \n",
      "3  1950       Brazil     Uruguay          Brazil   Sweden       Spain   \n",
      "4  1954  Switzerland  Germany FR         Hungary  Austria     Uruguay   \n",
      "\n",
      "   GoalsScored  QualifiedTeams  MatchesPlayed Attendance  \n",
      "0           70              13             18    590.549  \n",
      "1           70              16             17    363.000  \n",
      "2           84              15             18    375.700  \n",
      "3           88              13             22  1.045.246  \n",
      "4          140              16             26    768.607  \n"
     ]
    }
   ],
   "source": [
    "\n",
    "print(world_cups.head()) "
   ]
  },
  {
   "cell_type": "code",
   "execution_count": 10,
   "metadata": {},
   "outputs": [
    {
     "name": "stdout",
     "output_type": "stream",
     "text": [
      "              Year  Home Team Goals  Away Team Goals     Attendance  \\\n",
      "count   852.000000       852.000000       852.000000     850.000000   \n",
      "mean   1985.089202         1.811033         1.022300   45164.800000   \n",
      "std      22.448825         1.610255         1.087573   23485.249247   \n",
      "min    1930.000000         0.000000         0.000000    2000.000000   \n",
      "25%    1970.000000         1.000000         0.000000   30000.000000   \n",
      "50%    1990.000000         2.000000         1.000000   41579.500000   \n",
      "75%    2002.000000         3.000000         2.000000   61374.500000   \n",
      "max    2014.000000        10.000000         7.000000  173850.000000   \n",
      "\n",
      "       Half-time Home Goals  Half-time Away Goals       RoundID       MatchID  \n",
      "count            852.000000            852.000000  8.520000e+02  8.520000e+02  \n",
      "mean               0.708920              0.428404  1.066177e+07  6.134687e+07  \n",
      "std                0.937414              0.691252  2.729613e+07  1.110572e+08  \n",
      "min                0.000000              0.000000  2.010000e+02  2.500000e+01  \n",
      "25%                0.000000              0.000000  2.620000e+02  1.188750e+03  \n",
      "50%                0.000000              0.000000  3.370000e+02  2.191000e+03  \n",
      "75%                1.000000              1.000000  2.497220e+05  4.395006e+07  \n",
      "max                6.000000              5.000000  9.741060e+07  3.001865e+08  \n"
     ]
    }
   ],
   "source": [
    "# Summary statistics\n",
    "print(world_cup_matches.describe())"
   ]
  },
  {
   "cell_type": "code",
   "execution_count": 11,
   "metadata": {},
   "outputs": [
    {
     "name": "stdout",
     "output_type": "stream",
     "text": [
      "            RoundID       MatchID  Shirt Number\n",
      "count  3.778400e+04  3.778400e+04  37784.000000\n",
      "mean   1.105647e+07  6.362233e+07     10.726022\n",
      "std    2.770144e+07  1.123916e+08      6.960138\n",
      "min    2.010000e+02  2.500000e+01      0.000000\n",
      "25%    2.630000e+02  1.199000e+03      5.000000\n",
      "50%    3.370000e+02  2.216000e+03     11.000000\n",
      "75%    2.559310e+05  9.741000e+07     17.000000\n",
      "max    9.741060e+07  3.001865e+08     23.000000\n"
     ]
    }
   ],
   "source": [
    "\n",
    "print(world_cup_players.describe())"
   ]
  },
  {
   "cell_type": "code",
   "execution_count": 12,
   "metadata": {},
   "outputs": [
    {
     "name": "stdout",
     "output_type": "stream",
     "text": [
      "              Year  GoalsScored  QualifiedTeams  MatchesPlayed\n",
      "count    20.000000    20.000000       20.000000      20.000000\n",
      "mean   1974.800000   118.950000       21.250000      41.800000\n",
      "std      25.582889    32.972836        7.268352      17.218717\n",
      "min    1930.000000    70.000000       13.000000      17.000000\n",
      "25%    1957.000000    89.000000       16.000000      30.500000\n",
      "50%    1976.000000   120.500000       16.000000      38.000000\n",
      "75%    1995.000000   145.250000       26.000000      55.000000\n",
      "max    2014.000000   171.000000       32.000000      64.000000\n"
     ]
    }
   ],
   "source": [
    "print(world_cups.describe())"
   ]
  },
  {
   "cell_type": "code",
   "execution_count": 13,
   "metadata": {},
   "outputs": [
    {
     "name": "stdout",
     "output_type": "stream",
     "text": [
      "Year                    3720\n",
      "Datetime                3720\n",
      "Stage                   3720\n",
      "Stadium                 3720\n",
      "City                    3720\n",
      "Home Team Name          3720\n",
      "Home Team Goals         3720\n",
      "Away Team Goals         3720\n",
      "Away Team Name          3720\n",
      "Win conditions          3720\n",
      "Attendance              3722\n",
      "Half-time Home Goals    3720\n",
      "Half-time Away Goals    3720\n",
      "Referee                 3720\n",
      "Assistant 1             3720\n",
      "Assistant 2             3720\n",
      "RoundID                 3720\n",
      "MatchID                 3720\n",
      "Home Team Initials      3720\n",
      "Away Team Initials      3720\n",
      "dtype: int64\n"
     ]
    }
   ],
   "source": [
    "# Check for missing values\n",
    "print(world_cup_matches.isnull().sum())"
   ]
  },
  {
   "cell_type": "code",
   "execution_count": 14,
   "metadata": {},
   "outputs": [
    {
     "name": "stdout",
     "output_type": "stream",
     "text": [
      "RoundID              0\n",
      "MatchID              0\n",
      "Team Initials        0\n",
      "Coach Name           0\n",
      "Line-up              0\n",
      "Shirt Number         0\n",
      "Player Name          0\n",
      "Position         33641\n",
      "Event            28715\n",
      "dtype: int64\n"
     ]
    }
   ],
   "source": [
    "print(world_cup_players.isnull().sum())"
   ]
  },
  {
   "cell_type": "code",
   "execution_count": 15,
   "metadata": {},
   "outputs": [
    {
     "name": "stdout",
     "output_type": "stream",
     "text": [
      "Year              0\n",
      "Country           0\n",
      "Winner            0\n",
      "Runners-Up        0\n",
      "Third             0\n",
      "Fourth            0\n",
      "GoalsScored       0\n",
      "QualifiedTeams    0\n",
      "MatchesPlayed     0\n",
      "Attendance        0\n",
      "dtype: int64\n"
     ]
    }
   ],
   "source": [
    "print(world_cups.isnull().sum())  "
   ]
  },
  {
   "cell_type": "code",
   "execution_count": 17,
   "metadata": {},
   "outputs": [],
   "source": [
    "# Fill missing values for numeric columns\n",
    "numeric_cols_matches = world_cup_matches.select_dtypes(include=np.number).columns\n",
    "world_cup_matches[numeric_cols_matches] = world_cup_matches[numeric_cols_matches].fillna(world_cup_matches[numeric_cols_matches].mean())"
   ]
  },
  {
   "cell_type": "code",
   "execution_count": 18,
   "metadata": {},
   "outputs": [],
   "source": [
    "numeric_cols_players = world_cup_players.select_dtypes(include=np.number).columns\n",
    "world_cup_players[numeric_cols_players] = world_cup_players[numeric_cols_players].fillna(world_cup_players[numeric_cols_players].mean())"
   ]
  },
  {
   "cell_type": "code",
   "execution_count": 19,
   "metadata": {},
   "outputs": [],
   "source": [
    "numeric_cols_cups = world_cups.select_dtypes(include=np.number).columns\n",
    "world_cups[numeric_cols_cups] = world_cups[numeric_cols_cups].fillna(world_cups[numeric_cols_cups].mean())"
   ]
  },
  {
   "cell_type": "code",
   "execution_count": 28,
   "metadata": {},
   "outputs": [],
   "source": [
    "# Convert 'Year' columns to integer type if necessary\n",
    "world_cup_matches['Year'] = world_cup_matches['Year'].astype(int)\n",
    "world_cups['Year'] = world_cups['Year'].astype(int)\n",
    "\n"
   ]
  },
  {
   "cell_type": "code",
   "execution_count": 29,
   "metadata": {},
   "outputs": [
    {
     "name": "stdout",
     "output_type": "stream",
     "text": [
      "\n",
      "Missing values in 'Year' column of world_cup_matches: 0\n"
     ]
    }
   ],
   "source": [
    "# Check for missing values in 'Year' columns\n",
    "print(\"\\nMissing values in 'Year' column of world_cup_matches:\", world_cup_matches['Year'].isnull().sum())"
   ]
  },
  {
   "cell_type": "code",
   "execution_count": 30,
   "metadata": {},
   "outputs": [
    {
     "name": "stdout",
     "output_type": "stream",
     "text": [
      "Missing values in 'Year' column of world_cups: 0\n"
     ]
    }
   ],
   "source": [
    "print(\"Missing values in 'Year' column of world_cups:\", world_cups['Year'].isnull().sum())"
   ]
  },
  {
   "cell_type": "code",
   "execution_count": 39,
   "metadata": {},
   "outputs": [
    {
     "name": "stdout",
     "output_type": "stream",
     "text": [
      "\n",
      "First few rows of merged_data:\n",
      "   Year              Datetime    Stage         Stadium         City  \\\n",
      "0  1930  13 Jul 1930 - 15:00   Group 1         Pocitos  Montevideo    \n",
      "1  1930  13 Jul 1930 - 15:00   Group 4  Parque Central  Montevideo    \n",
      "2  1930  14 Jul 1930 - 12:45   Group 2  Parque Central  Montevideo    \n",
      "3  1930  14 Jul 1930 - 14:50   Group 3         Pocitos  Montevideo    \n",
      "4  1930  15 Jul 1930 - 16:00   Group 1  Parque Central  Montevideo    \n",
      "\n",
      "  Home Team Name  Home Team Goals  Away Team Goals Away Team Name  \\\n",
      "0         France              4.0              1.0         Mexico   \n",
      "1            USA              3.0              0.0        Belgium   \n",
      "2     Yugoslavia              2.0              1.0         Brazil   \n",
      "3        Romania              3.0              1.0           Peru   \n",
      "4      Argentina              1.0              0.0         France   \n",
      "\n",
      "  Win conditions  ...  Away Team Initials  Country   Winner Runners-Up Third  \\\n",
      "0                 ...                 MEX  Uruguay  Uruguay  Argentina   USA   \n",
      "1                 ...                 BEL  Uruguay  Uruguay  Argentina   USA   \n",
      "2                 ...                 BRA  Uruguay  Uruguay  Argentina   USA   \n",
      "3                 ...                 PER  Uruguay  Uruguay  Argentina   USA   \n",
      "4                 ...                 FRA  Uruguay  Uruguay  Argentina   USA   \n",
      "\n",
      "       Fourth  GoalsScored  QualifiedTeams MatchesPlayed Attendance_y  \n",
      "0  Yugoslavia         70.0            13.0          18.0      590.549  \n",
      "1  Yugoslavia         70.0            13.0          18.0      590.549  \n",
      "2  Yugoslavia         70.0            13.0          18.0      590.549  \n",
      "3  Yugoslavia         70.0            13.0          18.0      590.549  \n",
      "4  Yugoslavia         70.0            13.0          18.0      590.549  \n",
      "\n",
      "[5 rows x 29 columns]\n"
     ]
    }
   ],
   "source": [
    "# Perform the merge\n",
    "merged_data = pd.merge(world_cup_matches, world_cups, on='Year', how='left')\n",
    "print(\"\\nFirst few rows of merged_data:\")\n",
    "print(merged_data.head())"
   ]
  },
  {
   "cell_type": "code",
   "execution_count": 40,
   "metadata": {},
   "outputs": [],
   "source": [
    "# Drop rows with missing 'Year' values if necessary\n",
    "world_cup_matches = world_cup_matches.dropna(subset=['Year'])\n",
    "world_cups = world_cups.dropna(subset=['Year'])"
   ]
  },
  {
   "cell_type": "code",
   "execution_count": 41,
   "metadata": {},
   "outputs": [
    {
     "name": "stdout",
     "output_type": "stream",
     "text": [
      "\n",
      "Unique values in 'Year' column of world_cup_matches: [1930 1934 1938 1950 1954 1958 1962 1966 1970 1974 1978 1982 1986 1990\n",
      " 1994 1998 2002 2006 2010 2014 1985]\n",
      "Unique values in 'Year' column of world_cups: [1930 1934 1938 1950 1954 1958 1962 1966 1970 1974 1978 1982 1986 1990\n",
      " 1994 1998 2002 2006 2010 2014]\n"
     ]
    }
   ],
   "source": [
    "# Print unique values for inspection\n",
    "print(\"\\nUnique values in 'Year' column of world_cup_matches:\", world_cup_matches['Year'].unique())\n",
    "print(\"Unique values in 'Year' column of world_cups:\", world_cups['Year'].unique())"
   ]
  },
  {
   "cell_type": "code",
   "execution_count": 42,
   "metadata": {},
   "outputs": [
    {
     "name": "stdout",
     "output_type": "stream",
     "text": [
      "\n",
      "First few rows of merged_data:\n",
      "   Year              Datetime    Stage         Stadium         City  \\\n",
      "0  1930  13 Jul 1930 - 15:00   Group 1         Pocitos  Montevideo    \n",
      "1  1930  13 Jul 1930 - 15:00   Group 4  Parque Central  Montevideo    \n",
      "2  1930  14 Jul 1930 - 12:45   Group 2  Parque Central  Montevideo    \n",
      "3  1930  14 Jul 1930 - 14:50   Group 3         Pocitos  Montevideo    \n",
      "4  1930  15 Jul 1930 - 16:00   Group 1  Parque Central  Montevideo    \n",
      "\n",
      "  Home Team Name  Home Team Goals  Away Team Goals Away Team Name  \\\n",
      "0         France              4.0              1.0         Mexico   \n",
      "1            USA              3.0              0.0        Belgium   \n",
      "2     Yugoslavia              2.0              1.0         Brazil   \n",
      "3        Romania              3.0              1.0           Peru   \n",
      "4      Argentina              1.0              0.0         France   \n",
      "\n",
      "  Win conditions  ...  Away Team Initials  Country   Winner Runners-Up Third  \\\n",
      "0                 ...                 MEX  Uruguay  Uruguay  Argentina   USA   \n",
      "1                 ...                 BEL  Uruguay  Uruguay  Argentina   USA   \n",
      "2                 ...                 BRA  Uruguay  Uruguay  Argentina   USA   \n",
      "3                 ...                 PER  Uruguay  Uruguay  Argentina   USA   \n",
      "4                 ...                 FRA  Uruguay  Uruguay  Argentina   USA   \n",
      "\n",
      "       Fourth  GoalsScored  QualifiedTeams MatchesPlayed Attendance_y  \n",
      "0  Yugoslavia         70.0            13.0          18.0      590.549  \n",
      "1  Yugoslavia         70.0            13.0          18.0      590.549  \n",
      "2  Yugoslavia         70.0            13.0          18.0      590.549  \n",
      "3  Yugoslavia         70.0            13.0          18.0      590.549  \n",
      "4  Yugoslavia         70.0            13.0          18.0      590.549  \n",
      "\n",
      "[5 rows x 29 columns]\n"
     ]
    }
   ],
   "source": [
    "# Perform the merge\n",
    "merged_data = pd.merge(world_cup_matches, world_cups, on='Year', how='left')\n",
    "print(\"\\nFirst few rows of merged_data:\")\n",
    "print(merged_data.head())"
   ]
  },
  {
   "cell_type": "code",
   "execution_count": 43,
   "metadata": {},
   "outputs": [
    {
     "data": {
      "image/png": "[encoded data removed]",
      "text/plain": [
       "<Figure size 1200x600 with 1 Axes>"
      ]
     },
     "metadata": {},
     "output_type": "display_data"
    }
   ],
   "source": [
    "# Analysis of World Cup matches\n",
    "matches_per_year = world_cup_matches.groupby('Year').size()\n",
    "\n",
    "plt.figure(figsize=(12, 6))\n",
    "matches_per_year.plot(kind='bar')\n",
    "plt.title('Number of Matches Played in Each World Cup')\n",
    "plt.xlabel('Year')\n",
    "plt.ylabel('Number of Matches')\n",
    "plt.xticks(rotation=45)\n",
    "plt.show()\n"
   ]
  },
  {
   "cell_type": "code",
   "execution_count": 44,
   "metadata": {},
   "outputs": [],
   "source": [
    "# Extract goal events and calculate top goal scorers\n",
    "goal_events = world_cup_players[world_cup_players['Event'].str.contains('G', na=False)]\n",
    "top_scorers = goal_events.groupby('Player Name').size().sort_values(ascending=False).head(10)\n"
   ]
  },
  {
   "cell_type": "code",
   "execution_count": 45,
   "metadata": {},
   "outputs": [
    {
     "data": {
      "image/png": "[encoded data removed]",
      "text/plain": [
       "<Figure size 1400x800 with 1 Axes>"
      ]
     },
     "metadata": {},
     "output_type": "display_data"
    }
   ],
   "source": [
    "plt.figure(figsize=(14, 8))\n",
    "top_scorers.plot(kind='bar')\n",
    "plt.title('Top 10 Goal Scorers in World Cup Matches')\n",
    "plt.xlabel('Player Name')\n",
    "plt.ylabel('Goals')\n",
    "plt.show()"
   ]
  },
  {
   "cell_type": "code",
   "execution_count": 46,
   "metadata": {},
   "outputs": [
    {
     "name": "stdout",
     "output_type": "stream",
     "text": [
      "Cleaned datasets saved.\n"
     ]
    }
   ],
   "source": [
    "print(\"Cleaned datasets saved.\")"
   ]
  },
  {
   "cell_type": "code",
   "execution_count": null,
   "metadata": {},
   "outputs": [],
   "source": []
  }
 ],
 "metadata": {
  "kernelspec": {
   "display_name": "base",
   "language": "python",
   "name": "python3"
  },
  "language_info": {
   "codemirror_mode": {
    "name": "ipython",
    "version": 3
   },
   "file_extension": ".py",
   "mimetype": "text/x-python",
   "name": "python",
   "nbconvert_exporter": "python",
   "pygments_lexer": "ipython3",
   "version": "3.12.4"
  }
 },
 "nbformat": 4,
 "nbformat_minor": 2
}
